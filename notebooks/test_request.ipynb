{
 "cells": [
  {
   "cell_type": "markdown",
   "id": "a3515463",
   "metadata": {},
   "source": [
    "# TEST ENDPOINTS"
   ]
  },
  {
   "cell_type": "code",
   "execution_count": 1,
   "id": "1315494d",
   "metadata": {},
   "outputs": [],
   "source": [
    "import requests"
   ]
  },
  {
   "cell_type": "markdown",
   "id": "35843b82",
   "metadata": {},
   "source": [
    "## TEST /model_params"
   ]
  },
  {
   "cell_type": "code",
   "execution_count": 3,
   "id": "5a1d2da0",
   "metadata": {},
   "outputs": [
    {
     "name": "stdout",
     "output_type": "stream",
     "text": [
      "200\n",
      "{'bootstrap': 'True', 'ccp_alpha': '0.0', 'class_weight': 'balanced', 'criterion': 'gini', 'max_depth': 'None', 'max_features': 'sqrt', 'max_leaf_nodes': 'None', 'max_samples': 'None', 'memory': 'None', 'min_impurity_decrease': '0.0', 'min_samples_leaf': '1', 'min_samples_split': '2', 'min_weight_fraction_leaf': '0.0', 'model': \"RandomForestClassifier(class_weight='balanced', random_state=42)\", 'monotonic_cst': 'None', 'n_estimators': '100', 'n_jobs': 'None', 'oob_score': 'False', 'random_state': '42', 'scaler': 'MinMaxScaler()', 'scaler__clip': 'False', 'scaler__copy': 'True', 'scaler__feature_range': '(0, 1)', 'seed': '42', 'steps': \"[('scaler', MinMaxScaler()), ('model', RandomForestClassifier(class_weight='balanced', random_state=42))]\", 'transform_input': 'None', 'verbose': '0', 'warm_start': 'False'}\n"
     ]
    }
   ],
   "source": [
    "response = requests.get('http://127.0.0.1:5001/model_params')\n",
    "print(response.status_code)\n",
    "print(response.json())"
   ]
  },
  {
   "cell_type": "markdown",
   "id": "5916330f",
   "metadata": {},
   "source": [
    "## Test /model_metrics"
   ]
  },
  {
   "cell_type": "code",
   "execution_count": null,
   "id": "aab585f6",
   "metadata": {},
   "outputs": [
    {
     "name": "stdout",
     "output_type": "stream",
     "text": [
      "200\n",
      "{'accuracy': 0.788, 'min_cost': 2493000.0, 'recall': 0.534, 'roc_auc': 0.697}\n"
     ]
    }
   ],
   "source": [
    "response = requests.get('http://127.0.0.1:5001/model_metrics')\n",
    "print(response.status_code)\n",
    "print(response.json())"
   ]
  },
  {
   "cell_type": "markdown",
   "id": "ba0eaf0c",
   "metadata": {},
   "source": [
    "## Test /default_prediciton"
   ]
  },
  {
   "cell_type": "code",
   "execution_count": 5,
   "id": "daa8197e",
   "metadata": {},
   "outputs": [
    {
     "name": "stdout",
     "output_type": "stream",
     "text": [
      "200\n",
      "{'prediction': 0}\n"
     ]
    }
   ],
   "source": [
    "input = {'LIMIT_BAL': 30000.0,\n",
    "        'SEX': 1,\n",
    "        'EDUCATION': 2,\n",
    "        'MARRIAGE': 2,\n",
    "        'AGE': 25,\n",
    "        'PAY_0': 0,\n",
    "        'PAY_2': 0,\n",
    "        'PAY_3': 0,\n",
    "        'PAY_4': 0,\n",
    "        'PAY_5': 0,\n",
    "        'PAY_6': 0,\n",
    "        'BILL_AMT1': 8864.0,\n",
    "        'BILL_AMT2': 10062.0,\n",
    "        'BILL_AMT3': 11581.0,\n",
    "        'BILL_AMT4': 12580.0,\n",
    "        'BILL_AMT5': 13716.0,\n",
    "        'BILL_AMT6': 14828.0,\n",
    "        'PAY_AMT1': 1500.0,\n",
    "        'PAY_AMT2': 2000.0,\n",
    "        'PAY_AMT3': 1500.0,\n",
    "        'PAY_AMT4': 1500.0,\n",
    "        'PAY_AMT5': 1500.0,\n",
    "        'PAY_AMT6': 2000.0}\n",
    "\n",
    "response = requests.post('http://127.0.0.1:5001/default_prediction', json=input)\n",
    "print(response.status_code)\n",
    "print(response.json())"
   ]
  }
 ],
 "metadata": {
  "kernelspec": {
   "display_name": "venv",
   "language": "python",
   "name": "python3"
  },
  "language_info": {
   "codemirror_mode": {
    "name": "ipython",
    "version": 3
   },
   "file_extension": ".py",
   "mimetype": "text/x-python",
   "name": "python",
   "nbconvert_exporter": "python",
   "pygments_lexer": "ipython3",
   "version": "3.12.3"
  }
 },
 "nbformat": 4,
 "nbformat_minor": 5
}
